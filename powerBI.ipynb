{
 "cells": [
  {
   "cell_type": "code",
   "execution_count": 1,
   "id": "0aaed6ec-081a-4d2e-8fb6-b3aa8edbae49",
   "metadata": {},
   "outputs": [
    {
     "name": "stdout",
     "output_type": "stream",
     "text": [
      "Requirement already satisfied: pandas in c:\\users\\alfon\\appdata\\local\\programs\\python\\python313\\lib\\site-packages (2.2.3)\n",
      "Collecting openpyxl\n",
      "  Downloading openpyxl-3.1.5-py2.py3-none-any.whl.metadata (2.5 kB)\n",
      "Requirement already satisfied: numpy>=1.26.0 in c:\\users\\alfon\\appdata\\local\\programs\\python\\python313\\lib\\site-packages (from pandas) (2.1.3)\n",
      "Requirement already satisfied: python-dateutil>=2.8.2 in c:\\users\\alfon\\appdata\\local\\programs\\python\\python313\\lib\\site-packages (from pandas) (2.9.0.post0)\n",
      "Requirement already satisfied: pytz>=2020.1 in c:\\users\\alfon\\appdata\\local\\programs\\python\\python313\\lib\\site-packages (from pandas) (2024.2)\n",
      "Requirement already satisfied: tzdata>=2022.7 in c:\\users\\alfon\\appdata\\local\\programs\\python\\python313\\lib\\site-packages (from pandas) (2024.2)\n",
      "Collecting et-xmlfile (from openpyxl)\n",
      "  Downloading et_xmlfile-2.0.0-py3-none-any.whl.metadata (2.7 kB)\n",
      "Requirement already satisfied: six>=1.5 in c:\\users\\alfon\\appdata\\local\\programs\\python\\python313\\lib\\site-packages (from python-dateutil>=2.8.2->pandas) (1.16.0)\n",
      "Downloading openpyxl-3.1.5-py2.py3-none-any.whl (250 kB)\n",
      "Downloading et_xmlfile-2.0.0-py3-none-any.whl (18 kB)\n",
      "Installing collected packages: et-xmlfile, openpyxl\n",
      "Successfully installed et-xmlfile-2.0.0 openpyxl-3.1.5\n"
     ]
    }
   ],
   "source": [
    "!pip install pandas openpyxl"
   ]
  },
  {
   "cell_type": "code",
   "execution_count": 2,
   "id": "723dda6e-a75a-43ca-964d-097e840550c2",
   "metadata": {},
   "outputs": [],
   "source": [
    "import pandas as pd\n",
    "import random\n",
    "\n",
    "# Leer el archivo Excel con varias hojas\n",
    "archivo = 'ventas_olap.xlsx'\n",
    "excel = pd.read_excel(archivo, sheet_name=None)  # Lee todas las hojas\n",
    "\n",
    "# Acceder a la hoja de Ventas\n",
    "ventas_df = excel['Ventas']\n",
    "\n",
    "# Opciones de regiones\n",
    "regiones = ['norte', 'sur', 'este', 'oeste']\n",
    "\n",
    "# Generar regiones aleatorias\n",
    "ventas_df['region'] = [random.choice(regiones) for _ in range(len(ventas_df))]\n",
    "\n",
    "# Sobrescribir la hoja de Ventas en el mismo archivo\n",
    "excel['Ventas'] = ventas_df\n",
    "\n",
    "# Guardar el archivo con las modificaciones\n",
    "with pd.ExcelWriter(archivo, engine='openpyxl', mode='a', if_sheet_exists='replace') as writer:\n",
    "    for hoja, df in excel.items():\n",
    "        df.to_excel(writer, sheet_name=hoja, index=False)\n"
   ]
  },
  {
   "cell_type": "raw",
   "id": "0b84d296-63ae-44ff-8ffe-5a166ae40941",
   "metadata": {},
   "source": [
    "Creamos el libro fechas"
   ]
  },
  {
   "cell_type": "code",
   "execution_count": 3,
   "id": "2e6dc65a-5484-4e4d-abaa-406df6480957",
   "metadata": {},
   "outputs": [],
   "source": [
    "import pandas as pd\n",
    "\n",
    "# Ruta del archivo Excel original\n",
    "archivo = 'ventas_olap.xlsx'\n",
    "\n",
    "# Leer todas las hojas del archivo\n",
    "excel = pd.read_excel(archivo, sheet_name=None)\n",
    "\n",
    "# Acceder a la hoja 'Ventas'\n",
    "ventas_df = excel['Ventas']\n",
    "\n",
    "# Asegurar que la columna 'fecha' es tipo datetime\n",
    "ventas_df['fecha'] = pd.to_datetime(ventas_df['fecha'])\n",
    "\n",
    "# Crear el nuevo DataFrame para la hoja 'Fechas'\n",
    "fechas_df = pd.DataFrame({\n",
    "    'id_venta': ventas_df['id_venta'],\n",
    "    'id_cliente': ventas_df['id_cliente'],\n",
    "    'mes': ventas_df['fecha'].dt.month,\n",
    "    'trimestre': ventas_df['fecha'].dt.quarter,\n",
    "    'año': ventas_df['fecha'].dt.year\n",
    "})\n",
    "\n",
    "# Agregar la nueva hoja al diccionario\n",
    "excel['Fechas'] = fechas_df\n",
    "\n",
    "# Guardar el archivo con la nueva hoja\n",
    "with pd.ExcelWriter(archivo, engine='openpyxl', mode='a', if_sheet_exists='replace') as writer:\n",
    "    for hoja, df in excel.items():\n",
    "        df.to_excel(writer, sheet_name=hoja, index=False)\n"
   ]
  },
  {
   "cell_type": "raw",
   "id": "3bedc4f7-123a-4ba6-8c46-bd0eb71bf741",
   "metadata": {},
   "source": [
    "Ahora, creamos el libro de clientes"
   ]
  },
  {
   "cell_type": "code",
   "execution_count": 6,
   "id": "8985de17-0ca2-4a14-850f-c8807b49e5bf",
   "metadata": {},
   "outputs": [],
   "source": [
    "import pandas as pd\n",
    "import random\n",
    "\n",
    "# Leer el archivo Excel\n",
    "archivo = 'ventas_olap.xlsx'\n",
    "excel = pd.read_excel(archivo, sheet_name=None)\n",
    "\n",
    "# Obtener clientes únicos desde la hoja 'Ventas'\n",
    "ventas_df = excel['Ventas']\n",
    "clientes_unicos = ventas_df['id_cliente'].drop_duplicates().reset_index(drop=True)\n",
    "\n",
    "# Lista de 20 ciudades mexicanas sin acentos y de una sola palabra\n",
    "ciudades = [\n",
    "    'Merida', 'Cancun', 'Durango', 'Hermosillo', 'Irapuato',\n",
    "    'Mazatlan', 'Culiacan', 'Chihuahua', 'Saltillo', 'Celaya',\n",
    "    'Pachuca', 'Campeche', 'Reynosa', 'Obregon', 'Tecoman',\n",
    "    'Tulancingo', 'Parral', 'Delicias', 'Tepic', 'Apodaca'\n",
    "]\n",
    "\n",
    "# Generar DataFrame de Clientes\n",
    "clientes_df = pd.DataFrame({\n",
    "    'id_cliente': clientes_unicos,\n",
    "    'ciudad': [random.choice(ciudades) for _ in range(len(clientes_unicos))],\n",
    "    'genero': [random.choice(['masculino', 'femenino']) for _ in range(len(clientes_unicos))]\n",
    "})\n",
    "\n",
    "# Agregar la nueva hoja al diccionario\n",
    "excel['Clientes'] = clientes_df\n",
    "\n",
    "# Guardar el archivo con la hoja nueva\n",
    "with pd.ExcelWriter(archivo, engine='openpyxl', mode='a', if_sheet_exists='replace') as writer:\n",
    "    for hoja, df in excel.items():\n",
    "        df.to_excel(writer, sheet_name=hoja, index=False)"
   ]
  },
  {
   "cell_type": "raw",
   "id": "cd15d1e6-7df6-4d63-972d-5a8758781e56",
   "metadata": {},
   "source": [
    "Ver si hay id´s duplicados"
   ]
  },
  {
   "cell_type": "code",
   "execution_count": 7,
   "id": "af363538-ace8-40fe-b24a-3a7def479a38",
   "metadata": {},
   "outputs": [
    {
     "name": "stdout",
     "output_type": "stream",
     "text": [
      "No hay registros duplicados en 'id_cliente'.\n"
     ]
    }
   ],
   "source": [
    "import pandas as pd\n",
    "\n",
    "# Leer solo la hoja 'Clientes'\n",
    "archivo = 'ventas_olap.xlsx'\n",
    "clientes_df = pd.read_excel(archivo, sheet_name='Clientes')\n",
    "\n",
    "# Buscar duplicados en la columna 'id_cliente'\n",
    "duplicados = clientes_df[clientes_df.duplicated('id_cliente', keep=False)]\n",
    "\n",
    "# Mostrar resultados\n",
    "if not duplicados.empty:\n",
    "    print(\"Se encontraron registros duplicados en 'id_cliente':\")\n",
    "    print(duplicados)\n",
    "else:\n",
    "    print(\"No hay registros duplicados en 'id_cliente'.\")\n"
   ]
  },
  {
   "cell_type": "raw",
   "id": "03494439-ca18-4cfd-92f3-44771d726e31",
   "metadata": {},
   "source": [
    "Unificamos todos los libros del archivo excel y los guardamos en uno solo como un csv."
   ]
  },
  {
   "cell_type": "code",
   "execution_count": null,
   "id": "e7ca9f8c-69a3-42ed-9a8d-4121a1d73e69",
   "metadata": {},
   "outputs": [],
   "source": [
    "import pandas as pd\n",
    "\n",
    "# Ruta del archivo Excel\n",
    "archivo_excel = 'ventas_olap.xlsx'\n",
    "\n",
    "# Leer las hojas del Excel\n",
    "ventas_df = pd.read_excel(archivo_excel, sheet_name='Ventas')\n",
    "productos_df = pd.read_excel(archivo_excel, sheet_name='Productos')\n",
    "fechas_df = pd.read_excel(archivo_excel, sheet_name='Fechas')\n",
    "clientes_df = pd.read_excel(archivo_excel, sheet_name='Clientes')\n",
    "\n",
    "# Unir Ventas con Productos (por id_producto)\n",
    "df_completo = pd.merge(ventas_df, productos_df, on='id_producto', how='left')\n",
    "\n",
    "# Unir con Fechas (por id_venta e id_cliente)\n",
    "df_completo = pd.merge(df_completo, fechas_df, on=['id_venta', 'id_cliente'], how='left')\n",
    "\n",
    "# Unir con Clientes (por id_cliente)\n",
    "df_completo = pd.merge(df_completo, clientes_df, on='id_cliente', how='left')\n",
    "\n",
    "# Guardar como CSV sin modificar el Excel original\n",
    "df_completo.to_csv('ventas.csv', index=False, encoding='utf-8')"
   ]
  }
 ],
 "metadata": {
  "kernelspec": {
   "display_name": "Python 3 (ipykernel)",
   "language": "python",
   "name": "python3"
  },
  "language_info": {
   "codemirror_mode": {
    "name": "ipython",
    "version": 3
   },
   "file_extension": ".py",
   "mimetype": "text/x-python",
   "name": "python",
   "nbconvert_exporter": "python",
   "pygments_lexer": "ipython3",
   "version": "3.13.2"
  }
 },
 "nbformat": 4,
 "nbformat_minor": 5
}
